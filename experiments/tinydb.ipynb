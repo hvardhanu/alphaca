{
 "nbformat": 4,
 "nbformat_minor": 2,
 "metadata": {
  "language_info": {
   "name": "python",
   "codemirror_mode": {
    "name": "ipython",
    "version": 3
   },
   "version": "3.7.3-final"
  },
  "orig_nbformat": 2,
  "file_extension": ".py",
  "mimetype": "text/x-python",
  "name": "python",
  "npconvert_exporter": "python",
  "pygments_lexer": "ipython3",
  "version": 3,
  "kernelspec": {
   "name": "python37364bitvenv37venvb70a14f42f084007845d3c0626d62e52",
   "display_name": "Python 3.7.3 64-bit ('venv37': venv)"
  }
 },
 "cells": [
  {
   "cell_type": "code",
   "execution_count": 20,
   "metadata": {},
   "outputs": [],
   "source": [
    "from tinydb import TinyDB, Query\n",
    "from datetime import datetime, timedelta\n",
    "\n"
   ]
  },
  {
   "cell_type": "code",
   "execution_count": 2,
   "metadata": {},
   "outputs": [],
   "source": [
    "db = TinyDB('testdb.json')"
   ]
  },
  {
   "cell_type": "code",
   "execution_count": 24,
   "metadata": {},
   "outputs": [
    {
     "data": {
      "text/plain": "[{'type': 'buy',\n  'stocks': ['IND', 'F', 'GM'],\n  'date': '2020-04-10 21:23:36.974926'},\n {'type': 'record', 'stock': ['DBX'], 'date': '2020-04-10 21:22:10.987662'},\n {'type': 'record',\n  'stock': ['AAPL', 'USO'],\n  'date': '2020-04-10 21:22:51.733323'},\n {'type': 'record',\n  'stock': ['IND', 'F', 'GM'],\n  'date': '2020-04-10 21:23:36.974926'}]"
     },
     "execution_count": 24,
     "metadata": {},
     "output_type": "execute_result"
    }
   ],
   "source": [
    "#db.insert({'stock': 'DBX', 'cash': 4000})\n",
    "date = datetime.today()\n",
    "\n",
    "buyQ=Query()\n",
    "list = ['IND','F','GM']\n",
    "db.upsert({'type':'buy','stocks': list,'date':str(date)},buyQ.type=='buy')\n",
    "db.insert({'type':'record','stock': list,'date':str(date)})\n",
    "\n",
    "db.all()"
   ]
  },
  {
   "cell_type": "code",
   "execution_count": 18,
   "metadata": {},
   "outputs": [],
   "source": [
    "stk=Query()\n",
    "e = db.search(stk.stock=='MSFT')\n",
    "\n",
    "#db.remove(doc_ids=[4])\n",
    "db.purge()"
   ]
  },
  {
   "cell_type": "code",
   "execution_count": null,
   "metadata": {},
   "outputs": [],
   "source": []
  },
  {
   "cell_type": "code",
   "execution_count": 36,
   "metadata": {},
   "outputs": [
    {
     "data": {
      "text/plain": "[1, 2]"
     },
     "execution_count": 36,
     "metadata": {},
     "output_type": "execute_result"
    }
   ],
   "source": [
    "db.update({'cash':4000},stk.stock=='MSFT')\n"
   ]
  },
  {
   "cell_type": "code",
   "execution_count": 62,
   "metadata": {},
   "outputs": [
    {
     "name": "stdout",
     "output_type": "stream",
     "text": "{'stock': 'MSFT', 'cash': 4000, 'holding': 9}\n{'stock': 'MSFT', 'cash': 4000, 'holding': 9}\n{'stock': 'DBX', 'cash': 9000, 'lasttraded': '2010-01-01', 'holding': 4}\n110\n"
    }
   ],
   "source": [
    "#data structure\n",
    "# {'type':'trade','stock':'MSFT',cash:1000,holding:0,lasttrade:'2010-06-04',operation:'sell'}\n",
    "# {'type':'trade','stock':'MSFT',cash:12,holding:9,lasttrade:'2010-06-07',operation:'buy'}\n",
    "# {'type':'cashalloc','MSFT':1000,'DBX':1000,'GM':500}\n",
    "\n",
    "total = 0\n",
    "for item in db.all():\n",
    "    if 'holding' in item:\n",
    "        total=total+5*item['holding']\n",
    "print(total)"
   ]
  },
  {
   "cell_type": "code",
   "execution_count": 89,
   "metadata": {},
   "outputs": [
    {
     "data": {
      "text/plain": "'dfd.json'"
     },
     "execution_count": 89,
     "metadata": {},
     "output_type": "execute_result"
    }
   ],
   "source": [
    "d='dfd'\n",
    "d+'.json'"
   ]
  },
  {
   "cell_type": "code",
   "execution_count": 90,
   "metadata": {},
   "outputs": [
    {
     "data": {
      "text/plain": "[]"
     },
     "execution_count": 90,
     "metadata": {},
     "output_type": "execute_result"
    }
   ],
   "source": [
    "dbtest=TinyDB(\"../unitest.json\")\n",
    "dbtest.all()"
   ]
  },
  {
   "cell_type": "code",
   "execution_count": 91,
   "metadata": {},
   "outputs": [
    {
     "data": {
      "text/plain": "1"
     },
     "execution_count": 91,
     "metadata": {},
     "output_type": "execute_result"
    }
   ],
   "source": [
    "dbtest.insert({'type':'cashlanes','MSFT':1000})"
   ]
  },
  {
   "cell_type": "code",
   "execution_count": 119,
   "metadata": {},
   "outputs": [
    {
     "data": {
      "text/plain": "[{'type': 'cashlanes', 'MSFT': 970.0},\n {'SDF': 200},\n {'id': 1234,\n  'symbol': 'MSFT',\n  'qty': 2,\n  'filled_avg_price': 10,\n  'status': 'filled'},\n {'id': 1234,\n  'symbol': 'MSFT',\n  'qty': 2,\n  'filled_avg_price': 10,\n  'status': 'filled'},\n {'id': 1234,\n  'symbol': 'MSFT',\n  'qty': 2,\n  'filled_avg_price': 10,\n  'status': 'filled'},\n {'id': 1234,\n  'symbol': 'MSFT',\n  'qty': 2,\n  'filled_avg_price': 10,\n  'status': 'filled'},\n {'id': 1234,\n  'symbol': 'MSFT',\n  'qty': 2,\n  'filled_avg_price': 10,\n  'status': 'filled'},\n {'id': 1234,\n  'symbol': 'MSFT',\n  'qty': 2,\n  'filled_avg_price': 10,\n  'status': 'filled'},\n {'id': 1234,\n  'symbol': 'MSFT',\n  'qty': 2,\n  'filled_avg_price': 10,\n  'status': 'filled'},\n {'id': 1234,\n  'symbol': 'MSFT',\n  'type': 'market',\n  'side': 'buy',\n  'submitted_at': '12-12-2017',\n  'filled_at': '',\n  'qty': 2,\n  'filled_avg_price': 10,\n  'status': 'filled'},\n {'id': 1234,\n  'symbol': 'MSFT',\n  'type': 'market',\n  'side': 'buy',\n  'submitted_at': '12-12-2017',\n  'filled_at': '',\n  'qty': 2,\n  'filled_avg_price': 10,\n  'status': 'filled'},\n {'id': 1234,\n  'symbol': 'MSFT',\n  'type': 'market',\n  'side': 'buy',\n  'submitted_at': '12-12-2017',\n  'filled_at': '',\n  'qty': 2,\n  'filled_avg_price': 10,\n  'status': 'filled'},\n {'id': 1234,\n  'symbol': 'MSFT',\n  'type': 'market',\n  'side': 'buy',\n  'submitted_at': '12-12-2017',\n  'filled_at': '',\n  'qty': 2,\n  'filled_avg_price': 10,\n  'status': 'filled'},\n {'id': 1234,\n  'symbol': 'MSFT',\n  'type': 'market',\n  'side': 'buy',\n  'submitted_at': '12-12-2017',\n  'filled_at': '',\n  'qty': 2,\n  'filled_avg_price': 10,\n  'status': 'filled'},\n {'id': 1234,\n  'symbol': 'MSFT',\n  'type': 'market',\n  'side': 'buy',\n  'submitted_at': '12-12-2017',\n  'filled_at': '',\n  'qty': 2,\n  'filled_avg_price': 10,\n  'status': 'filled'},\n {'id': 1234,\n  'symbol': 'MSFT',\n  'type': 'market',\n  'side': 'buy',\n  'submitted_at': '12-12-2017',\n  'filled_at': '',\n  'qty': 2,\n  'filled_avg_price': 10,\n  'status': 'filled'},\n {'id': 1234,\n  'symbol': 'MSFT',\n  'type': 'market',\n  'side': 'buy',\n  'submitted_at': '12-12-2017',\n  'filled_at': '',\n  'qty': 2,\n  'filled_avg_price': 10,\n  'status': 'filled'},\n {'id': 1234,\n  'symbol': 'MSFT',\n  'type': 'market',\n  'side': 'buy',\n  'submitted_at': '12-12-2017',\n  'filled_at': '',\n  'qty': 2,\n  'filled_avg_price': 10,\n  'status': 'filled'},\n {'id': 1234,\n  'symbol': 'MSFT',\n  'type': 'market',\n  'side': 'buy',\n  'submitted_at': '12-12-2017',\n  'filled_at': '',\n  'qty': 2,\n  'filled_avg_price': 10,\n  'status': 'filled'},\n {'id': 1234,\n  'symbol': 'MSFT',\n  'type': 'market',\n  'side': 'buy',\n  'submitted_at': '12-12-2017',\n  'filled_at': '',\n  'qty': 2,\n  'filled_avg_price': 10,\n  'status': 'filled'},\n {'id': 1234,\n  'symbol': 'MSFT',\n  'type': 'market',\n  'side': 'buy',\n  'submitted_at': '12-12-2017',\n  'filled_at': '',\n  'qty': 2,\n  'filled_avg_price': 10,\n  'status': 'filled'},\n {'id': 1234,\n  'symbol': 'MSFT',\n  'type': 'market',\n  'side': 'buy',\n  'submitted_at': '12-12-2017',\n  'filled_at': '',\n  'qty': 2,\n  'filled_avg_price': 10,\n  'status': 'filled'},\n {'id': 1234,\n  'symbol': 'MSFT',\n  'type': 'market',\n  'side': 'buy',\n  'submitted_at': '12-12-2017',\n  'filled_at': '',\n  'qty': 2,\n  'filled_avg_price': 10,\n  'status': 'filled'},\n {'id': 1234,\n  'symbol': 'MSFT',\n  'type': 'market',\n  'side': 'buy',\n  'submitted_at': '12-12-2017',\n  'filled_at': '',\n  'qty': 2,\n  'filled_avg_price': 10,\n  'status': 'filled'},\n {'id': 1234,\n  'symbol': 'MSFT',\n  'type': 'market',\n  'side': 'buy',\n  'submitted_at': '12-12-2017',\n  'filled_at': '',\n  'qty': 2,\n  'filled_avg_price': 10,\n  'status': 'filled'},\n {'id': 1234,\n  'symbol': 'MSFT',\n  'type': 'market',\n  'side': 'buy',\n  'submitted_at': '12-12-2017',\n  'filled_at': '',\n  'qty': 2,\n  'filled_avg_price': 10,\n  'status': 'filled'},\n {'id': 1234,\n  'symbol': 'MSFT',\n  'type': 'market',\n  'side': 'buy',\n  'submitted_at': '12-12-2017',\n  'filled_at': '',\n  'qty': 2,\n  'filled_avg_price': 10,\n  'status': 'filled'},\n {'id': 1234,\n  'symbol': 'MSFT',\n  'type': 'market',\n  'side': 'buy',\n  'submitted_at': '12-12-2017',\n  'filled_at': '',\n  'qty': 2,\n  'filled_avg_price': 10,\n  'status': 'filled'},\n {'id': 1234,\n  'symbol': 'MSFT',\n  'type': 'market',\n  'side': 'buy',\n  'submitted_at': '12-12-2017',\n  'filled_at': '',\n  'qty': 2,\n  'filled_avg_price': 10,\n  'status': 'filled'}]"
     },
     "execution_count": 119,
     "metadata": {},
     "output_type": "execute_result"
    }
   ],
   "source": [
    "v='SDF'\n",
    "j=1000\n",
    "q=Query()\n",
    "#dbtest.update({'MSFT': 1000},q.type=='cashlanes')\n",
    "dbtest.all()"
   ]
  },
  {
   "cell_type": "code",
   "execution_count": 120,
   "metadata": {},
   "outputs": [
    {
     "data": {
      "text/plain": "1"
     },
     "execution_count": 120,
     "metadata": {},
     "output_type": "execute_result"
    }
   ],
   "source": [
    "dbpeakeasy=TinyDB(\"../peakeasy.json\")\n",
    "dbpeakeasy.insert({'type':'cashlanes','MSFT':1000})"
   ]
  },
  {
   "cell_type": "code",
   "execution_count": 126,
   "metadata": {},
   "outputs": [
    {
     "data": {
      "text/plain": "1000"
     },
     "execution_count": 126,
     "metadata": {},
     "output_type": "execute_result"
    }
   ],
   "source": [
    "q=Query()\n",
    "res=dbpeakeasy.search(q.type=='cashlanes')\n",
    "stock='MSFT'\n",
    "res[0][stock]"
   ]
  },
  {
   "cell_type": "code",
   "execution_count": 140,
   "metadata": {},
   "outputs": [
    {
     "data": {
      "text/plain": "[3]"
     },
     "execution_count": 140,
     "metadata": {},
     "output_type": "execute_result"
    }
   ],
   "source": [
    "dbpeakeasy.upsert({'DBX':0.9},q.type=='stoploss')"
   ]
  },
  {
   "cell_type": "code",
   "execution_count": 133,
   "metadata": {},
   "outputs": [
    {
     "name": "stdout",
     "output_type": "stream",
     "text": "type\nMSFT\nDBX\n"
    }
   ],
   "source": [
    "res=dbpeakeasy.search(q.type=='cashlanes')\n",
    "for i in res[0]:\n",
    "    print(i)"
   ]
  },
  {
   "cell_type": "code",
   "execution_count": 134,
   "metadata": {},
   "outputs": [
    {
     "data": {
      "text/plain": "3"
     },
     "execution_count": 134,
     "metadata": {},
     "output_type": "execute_result"
    }
   ],
   "source": [
    "dbpeakeasy.insert({'type':'periods','MSFT':10})\n",
    "dbpeakeasy.insert({'type':'stoploss','MSFT':0.85})"
   ]
  },
  {
   "cell_type": "code",
   "execution_count": 135,
   "metadata": {},
   "outputs": [
    {
     "data": {
      "text/plain": "[{'type': 'cashlanes', 'MSFT': 1000, 'DBX': 10000},\n {'type': 'periods', 'MSFT': 10},\n {'type': 'stoploss', 'MSFT': 0.85}]"
     },
     "execution_count": 135,
     "metadata": {},
     "output_type": "execute_result"
    }
   ],
   "source": [
    "dbpeakeasy.all()"
   ]
  }
 ]
}