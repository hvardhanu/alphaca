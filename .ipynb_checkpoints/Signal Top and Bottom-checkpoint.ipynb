{
 "cells": [
  {
   "cell_type": "code",
   "execution_count": 3,
   "metadata": {},
   "outputs": [
    {
     "ename": "ModuleNotFoundError",
     "evalue": "No module named 'mpl_finance'",
     "output_type": "error",
     "traceback": [
      "\u001b[0;31m---------------------------------------------------------------------------\u001b[0m",
      "\u001b[0;31mModuleNotFoundError\u001b[0m                       Traceback (most recent call last)",
      "\u001b[0;32m<ipython-input-3-397d6dcbe6ba>\u001b[0m in \u001b[0;36m<module>\u001b[0;34m\u001b[0m\n\u001b[1;32m      4\u001b[0m \u001b[0;32mfrom\u001b[0m \u001b[0mscipy\u001b[0m\u001b[0;34m.\u001b[0m\u001b[0msignal\u001b[0m \u001b[0;32mimport\u001b[0m \u001b[0mfind_peaks\u001b[0m\u001b[0;34m\u001b[0m\u001b[0;34m\u001b[0m\u001b[0m\n\u001b[1;32m      5\u001b[0m \u001b[0;32mimport\u001b[0m \u001b[0mmatplotlib\u001b[0m\u001b[0;34m.\u001b[0m\u001b[0mpyplot\u001b[0m \u001b[0;32mas\u001b[0m \u001b[0mplt\u001b[0m\u001b[0;34m\u001b[0m\u001b[0;34m\u001b[0m\u001b[0m\n\u001b[0;32m----> 6\u001b[0;31m \u001b[0;32mfrom\u001b[0m \u001b[0mmpl_finance\u001b[0m \u001b[0;32mimport\u001b[0m \u001b[0mcandlestick_ohlc\u001b[0m\u001b[0;34m\u001b[0m\u001b[0;34m\u001b[0m\u001b[0m\n\u001b[0m\u001b[1;32m      7\u001b[0m \u001b[0;32mimport\u001b[0m \u001b[0mdatetime\u001b[0m\u001b[0;34m\u001b[0m\u001b[0;34m\u001b[0m\u001b[0m\n\u001b[1;32m      8\u001b[0m \u001b[0mget_ipython\u001b[0m\u001b[0;34m(\u001b[0m\u001b[0;34m)\u001b[0m\u001b[0;34m.\u001b[0m\u001b[0mrun_line_magic\u001b[0m\u001b[0;34m(\u001b[0m\u001b[0;34m'matplotlib'\u001b[0m\u001b[0;34m,\u001b[0m \u001b[0;34m'inline'\u001b[0m\u001b[0;34m)\u001b[0m\u001b[0;34m\u001b[0m\u001b[0;34m\u001b[0m\u001b[0m\n",
      "\u001b[0;31mModuleNotFoundError\u001b[0m: No module named 'mpl_finance'"
     ]
    }
   ],
   "source": [
    "import alpaca_trade_api as alpaca_trade_api\n",
    "import numpy as np\n",
    "import pandas as pd\n",
    "from scipy.signal import find_peaks\n",
    "import matplotlib.pyplot as plt\n",
    "from mpl_finance import candlestick_ohlc\n",
    "import datetime \n",
    "%matplotlib inline\n"
   ]
  },
  {
   "cell_type": "code",
   "execution_count": 2,
   "metadata": {},
   "outputs": [],
   "source": [
    " api = alpaca_trade_api.REST(key_id='PK714C2Y2AKEKG1GJHAQ',\n",
    "                    secret_key='NwgIb/ZhtYWvEyulzuv6BfWnQJk0iqmxSnO/snKv',\n",
    "                    base_url='https://paper-api.alpaca.markets',\n",
    "                    api_version='v2')  # or use ENV Vars shown below"
   ]
  },
  {
   "cell_type": "code",
   "execution_count": 364,
   "metadata": {},
   "outputs": [
    {
     "data": {
      "text/plain": [
       "Timestamp('2019-12-30 15:50:12.705000-0500', tz='America/New_York')"
      ]
     },
     "execution_count": 364,
     "metadata": {},
     "output_type": "execute_result"
    }
   ],
   "source": [
    "api.polygon.last_quote('MSFT').timestamp"
   ]
  },
  {
   "cell_type": "code",
   "execution_count": 368,
   "metadata": {},
   "outputs": [
    {
     "data": {
      "text/plain": [
       "Clock({   'is_open': False,\n",
       "    'next_close': '2019-12-31T16:00:00-05:00',\n",
       "    'next_open': '2019-12-31T09:30:00-05:00',\n",
       "    'timestamp': '2019-12-30T16:38:05.365840913-05:00'})"
      ]
     },
     "execution_count": 368,
     "metadata": {},
     "output_type": "execute_result"
    }
   ],
   "source": [
    "api.get_clock()"
   ]
  },
  {
   "cell_type": "code",
   "execution_count": 406,
   "metadata": {},
   "outputs": [],
   "source": [
    "dt = datetime.datetime.today()\n",
    "dt.strftime('%Y-%m-%dT%H:%M:%S.%f-04:00')\n",
    "bars=api.get_barset('MSFT',limit=500,timeframe='1D')"
   ]
  },
  {
   "cell_type": "code",
   "execution_count": 408,
   "metadata": {},
   "outputs": [
    {
     "data": {
      "text/html": [
       "<div>\n",
       "<style scoped>\n",
       "    .dataframe tbody tr th:only-of-type {\n",
       "        vertical-align: middle;\n",
       "    }\n",
       "\n",
       "    .dataframe tbody tr th {\n",
       "        vertical-align: top;\n",
       "    }\n",
       "\n",
       "    .dataframe thead th {\n",
       "        text-align: right;\n",
       "    }\n",
       "</style>\n",
       "<table border=\"1\" class=\"dataframe\">\n",
       "  <thead>\n",
       "    <tr style=\"text-align: right;\">\n",
       "      <th></th>\n",
       "      <th>Close MSFT</th>\n",
       "    </tr>\n",
       "  </thead>\n",
       "  <tbody>\n",
       "    <tr>\n",
       "      <th>2018-01-05 00:00:00-05:00</th>\n",
       "      <td>88.11</td>\n",
       "    </tr>\n",
       "    <tr>\n",
       "      <th>2018-01-08 00:00:00-05:00</th>\n",
       "      <td>88.22</td>\n",
       "    </tr>\n",
       "    <tr>\n",
       "      <th>2018-01-09 00:00:00-05:00</th>\n",
       "      <td>88.23</td>\n",
       "    </tr>\n",
       "    <tr>\n",
       "      <th>2018-01-10 00:00:00-05:00</th>\n",
       "      <td>87.81</td>\n",
       "    </tr>\n",
       "    <tr>\n",
       "      <th>2018-01-11 00:00:00-05:00</th>\n",
       "      <td>88.06</td>\n",
       "    </tr>\n",
       "  </tbody>\n",
       "</table>\n",
       "</div>"
      ],
      "text/plain": [
       "                           Close MSFT\n",
       "2018-01-05 00:00:00-05:00       88.11\n",
       "2018-01-08 00:00:00-05:00       88.22\n",
       "2018-01-09 00:00:00-05:00       88.23\n",
       "2018-01-10 00:00:00-05:00       87.81\n",
       "2018-01-11 00:00:00-05:00       88.06"
      ]
     },
     "execution_count": 408,
     "metadata": {},
     "output_type": "execute_result"
    }
   ],
   "source": [
    "ls_m = list(bars['MSFT'])\n",
    "\n",
    "close_m = [x.c for x in ls_m]\n",
    "date =  [x.t for x in ls_m]\n",
    "lst = np.array([close_m])\n",
    "indx = pd.DatetimeIndex(date)\n",
    "lst = lst.transpose()\n",
    "df_stocks=pd.DataFrame(lst,index=indx,columns=['Close MSFT'])\n",
    "df_stocks.head()"
   ]
  },
  {
   "cell_type": "code",
   "execution_count": null,
   "metadata": {},
   "outputs": [],
   "source": []
  },
  {
   "cell_type": "code",
   "execution_count": null,
   "metadata": {},
   "outputs": [],
   "source": []
  },
  {
   "cell_type": "code",
   "execution_count": 206,
   "metadata": {},
   "outputs": [
    {
     "data": {
      "text/plain": [
       "30"
      ]
     },
     "execution_count": 206,
     "metadata": {},
     "output_type": "execute_result"
    }
   ],
   "source": [
    "def getArrayFromBars(symbol,days):\n",
    "        try:\n",
    "            bars = api.get_barset(symbol, timeframe='day', limit=days)\n",
    "        except alpaca_trade_api.rest.APIError as e:\n",
    "            print(\"Error in get_avg_price while getting bars- \", e)\n",
    "        ls_o = bars[symbol]\n",
    "        list_close = [elem.c for elem in ls_o]\n",
    "        list_open =  [elem.o for elem in ls_o]\n",
    "        list_high =  [elem.h for elem in ls_o]\n",
    "        list_low =   [elem.l for elem in ls_o]\n",
    "        list_date =  [elem.t for elem in ls_o]\n",
    "        list_vol =  [elem.v for elem in ls_o]\n",
    "        np_symbol = np.array([list_close,list_open,list_high,list_low,list_vol])\n",
    "        idx = pd.DatetimeIndex(list_date)\n",
    "        np_symbol = np_symbol.transpose()\n",
    "        df_symbol = pd.DataFrame(np_symbol,index=idx, columns = ['close','open','high','low','volume'])\n",
    "\n",
    "        return df_symbol\n",
    "    \n",
    "len(getArrayFromBars('MSFT',30))"
   ]
  },
  {
   "cell_type": "code",
   "execution_count": 477,
   "metadata": {},
   "outputs": [
    {
     "data": {
      "text/plain": [
       "<matplotlib.axes._subplots.AxesSubplot at 0x1c2eabaf98>"
      ]
     },
     "execution_count": 477,
     "metadata": {},
     "output_type": "execute_result"
    },
    {
     "data": {
      "image/png": "[encoded data removed]",
      "text/plain": [
       "<Figure size 432x288 with 1 Axes>"
      ]
     },
     "metadata": {
      "needs_background": "light"
     },
     "output_type": "display_data"
    }
   ],
   "source": [
    "df_stocks.plot()"
   ]
  },
  {
   "cell_type": "code",
   "execution_count": 476,
   "metadata": {},
   "outputs": [
    {
     "name": "stderr",
     "output_type": "stream",
     "text": [
      "/Users/harshupreti/anaconda3/lib/python3.7/site-packages/ipykernel_launcher.py:5: FutureWarning: Currently, 'apply' passes the values as ndarrays to the applied function. In the future, this will change to passing it as Series objects. You need to specify 'raw=True' to keep the current behaviour, and you can pass 'raw=False' to silence this warning\n",
      "  \"\"\"\n"
     ]
    },
    {
     "ename": "TypeError",
     "evalue": "'numpy.int64' object is not iterable",
     "output_type": "error",
     "traceback": [
      "\u001b[0;31m---------------------------------------------------------------------------\u001b[0m",
      "\u001b[0;31mTypeError\u001b[0m                                 Traceback (most recent call last)",
      "\u001b[0;32m<ipython-input-476-5f41dbf922d9>\u001b[0m in \u001b[0;36m<module>\u001b[0;34m\u001b[0m\n\u001b[1;32m     11\u001b[0m \u001b[0mdf_stocks\u001b[0m\u001b[0;34m[\u001b[0m\u001b[0;34m'Troughs'\u001b[0m\u001b[0;34m]\u001b[0m\u001b[0;34m=\u001b[0m\u001b[0mnp\u001b[0m\u001b[0;34m.\u001b[0m\u001b[0mnan\u001b[0m\u001b[0;34m\u001b[0m\u001b[0;34m\u001b[0m\u001b[0m\n\u001b[1;32m     12\u001b[0m \u001b[0;34m\u001b[0m\u001b[0m\n\u001b[0;32m---> 13\u001b[0;31m \u001b[0;32mfor\u001b[0m \u001b[0mx\u001b[0m \u001b[0;32min\u001b[0m \u001b[0mar_peaks\u001b[0m\u001b[0;34m:\u001b[0m\u001b[0;34m\u001b[0m\u001b[0;34m\u001b[0m\u001b[0m\n\u001b[0m\u001b[1;32m     14\u001b[0m     \u001b[0mdf_stocks\u001b[0m\u001b[0;34m[\u001b[0m\u001b[0;34m'Peaks'\u001b[0m\u001b[0;34m]\u001b[0m\u001b[0;34m[\u001b[0m\u001b[0mx\u001b[0m\u001b[0;34m]\u001b[0m\u001b[0;34m=\u001b[0m\u001b[0mdf_stocks\u001b[0m\u001b[0;34m[\u001b[0m\u001b[0;34m'Close MSFT'\u001b[0m\u001b[0;34m]\u001b[0m\u001b[0;34m[\u001b[0m\u001b[0mx\u001b[0m\u001b[0;34m]\u001b[0m\u001b[0;34m\u001b[0m\u001b[0;34m\u001b[0m\u001b[0m\n\u001b[1;32m     15\u001b[0m \u001b[0;34m\u001b[0m\u001b[0m\n",
      "\u001b[0;31mTypeError\u001b[0m: 'numpy.int64' object is not iterable"
     ]
    }
   ],
   "source": [
    "dist = 3\n",
    "peaks,pprops = find_peaks(df_stocks['Close MSFT'],distance=dist,prominence=(0.5,1))\n",
    "troughs = find_peaks(-1*df_stocks['Close MSFT'],distance=dist)\n",
    "\n",
    "df_stocks['volatility'] = df_stocks['Close MSFT'].rolling(window=dist).apply(np.std)\n",
    "\n",
    "ar_peaks = peaks[0]\n",
    "ar_troughs = troughs[0]\n",
    "\n",
    "df_stocks['Peaks']=np.nan\n",
    "df_stocks['Troughs']=np.nan\n",
    "\n",
    "for x in ar_peaks:\n",
    "    df_stocks['Peaks'][x]=df_stocks['Close MSFT'][x]\n",
    "\n",
    "for x in ar_troughs:\n",
    "    df_stocks['Troughs'][x]=df_stocks['Close MSFT'][x]\n"
   ]
  },
  {
   "cell_type": "code",
   "execution_count": 438,
   "metadata": {},
   "outputs": [
    {
     "data": {
      "text/html": [
       "<div>\n",
       "<style scoped>\n",
       "    .dataframe tbody tr th:only-of-type {\n",
       "        vertical-align: middle;\n",
       "    }\n",
       "\n",
       "    .dataframe tbody tr th {\n",
       "        vertical-align: top;\n",
       "    }\n",
       "\n",
       "    .dataframe thead th {\n",
       "        text-align: right;\n",
       "    }\n",
       "</style>\n",
       "<table border=\"1\" class=\"dataframe\">\n",
       "  <thead>\n",
       "    <tr style=\"text-align: right;\">\n",
       "      <th></th>\n",
       "      <th>Close MSFT</th>\n",
       "      <th>volatility</th>\n",
       "      <th>Peaks</th>\n",
       "      <th>Troughs</th>\n",
       "      <th>Roll Peaks</th>\n",
       "    </tr>\n",
       "  </thead>\n",
       "  <tbody>\n",
       "    <tr>\n",
       "      <th>2018-01-05 00:00:00-05:00</th>\n",
       "      <td>88.11</td>\n",
       "      <td>NaN</td>\n",
       "      <td>NaN</td>\n",
       "      <td>NaN</td>\n",
       "      <td>NaN</td>\n",
       "    </tr>\n",
       "    <tr>\n",
       "      <th>2018-01-08 00:00:00-05:00</th>\n",
       "      <td>88.22</td>\n",
       "      <td>NaN</td>\n",
       "      <td>NaN</td>\n",
       "      <td>NaN</td>\n",
       "      <td>NaN</td>\n",
       "    </tr>\n",
       "    <tr>\n",
       "      <th>2018-01-09 00:00:00-05:00</th>\n",
       "      <td>88.23</td>\n",
       "      <td>NaN</td>\n",
       "      <td>NaN</td>\n",
       "      <td>NaN</td>\n",
       "      <td>NaN</td>\n",
       "    </tr>\n",
       "    <tr>\n",
       "      <th>2018-01-10 00:00:00-05:00</th>\n",
       "      <td>87.81</td>\n",
       "      <td>NaN</td>\n",
       "      <td>NaN</td>\n",
       "      <td>87.81</td>\n",
       "      <td>NaN</td>\n",
       "    </tr>\n",
       "    <tr>\n",
       "      <th>2018-01-11 00:00:00-05:00</th>\n",
       "      <td>88.06</td>\n",
       "      <td>NaN</td>\n",
       "      <td>NaN</td>\n",
       "      <td>NaN</td>\n",
       "      <td>NaN</td>\n",
       "    </tr>\n",
       "  </tbody>\n",
       "</table>\n",
       "</div>"
      ],
      "text/plain": [
       "                           Close MSFT  volatility  Peaks  Troughs  Roll Peaks\n",
       "2018-01-05 00:00:00-05:00       88.11         NaN    NaN      NaN         NaN\n",
       "2018-01-08 00:00:00-05:00       88.22         NaN    NaN      NaN         NaN\n",
       "2018-01-09 00:00:00-05:00       88.23         NaN    NaN      NaN         NaN\n",
       "2018-01-10 00:00:00-05:00       87.81         NaN    NaN    87.81         NaN\n",
       "2018-01-11 00:00:00-05:00       88.06         NaN    NaN      NaN         NaN"
      ]
     },
     "execution_count": 438,
     "metadata": {},
     "output_type": "execute_result"
    }
   ],
   "source": [
    "df_stocks.head()"
   ]
  },
  {
   "cell_type": "code",
   "execution_count": 474,
   "metadata": {},
   "outputs": [
    {
     "name": "stderr",
     "output_type": "stream",
     "text": [
      "/Users/harshupreti/anaconda3/lib/python3.7/site-packages/ipykernel_launcher.py:82: FutureWarning: Currently, 'apply' passes the values as ndarrays to the applied function. In the future, this will change to passing it as Series objects. You need to specify 'raw=True' to keep the current behaviour, and you can pass 'raw=False' to silence this warning\n"
     ]
    }
   ],
   "source": [
    "#ar_test=np.arange(1,10)\n",
    "#ar_test = np.array([154,157,154,150,143,123,132,133,132])\n",
    "\n",
    "#Expects np array\n",
    "def stockPeaks(prices):\n",
    "    peaks=np.array([])\n",
    "    ar_peaks = find_peaks(prices,distance=dist,height=100)\n",
    "    for x in ar_peaks[0]:\n",
    "        peaks=np.append(peaks,prices[x])\n",
    "    if len(peaks) > 0:\n",
    "        return peaks[-1]\n",
    "    else:\n",
    "        return np.nan\n",
    "\n",
    "#Expects np array\n",
    "def stockTroughs(prices):\n",
    "    troughs=np.array([])\n",
    "    ar_troughs = find_peaks(-1*prices)\n",
    "    for x in ar_troughs[0]:\n",
    "        troughs=np.append(troughs,prices[x])\n",
    "    return troughs\n",
    "\n",
    "def isPeak(prices):\n",
    "    ar_prices = np.array(prices)\n",
    "    ar_peaks = find_peaks(ar_prices,distance=10)\n",
    "    print(ar_peaks)\n",
    "    if (ar_peaks[0].size>0) and (ar_peaks[0][-1] == ar_prices.size-2):\n",
    "        return True\n",
    "    else:\n",
    "        return False\n",
    "\n",
    "def isTrough(prices):\n",
    "    ar_prices = np.array(prices)\n",
    "    ar_troughs = find_peaks(-1*ar_prices,distance=10)\n",
    "    if (ar_troughs[0].size>0) and (ar_troughs[0][-1] == ar_prices.size-2):\n",
    "        return True\n",
    "    else:\n",
    "        return False\n",
    "    \n",
    "def isPeakTrend(prices):\n",
    "    ar_prices = np.array(prices)\n",
    "    ar_peaks = find_peaks(ar_prices,distance=10)\n",
    "    print(ar_peaks)\n",
    "    if (ar_peaks[0].size>0) and (ar_peaks[0][-1] == ar_prices.size-2):\n",
    "        return True\n",
    "    else:\n",
    "        return False\n",
    "\n",
    "def isPeakTrend(prices):\n",
    "    # Do not buy if last two troughs are decreasing\n",
    "    dist = len(prices)/2\n",
    "    ar_prices = np.array(prices)\n",
    "    ar_peaks = find_peaks(ar_prices,distance=dist)[0]\n",
    "    print(ar_peaks)\n",
    "    if (ar_peaks.size>1) and (ar_peaks[-1] == ar_prices.size-2):\n",
    "        return True\n",
    "    # elif (ar_peaks.size==1) and (ar_peaks[-1] == ar_prices.size-2):\n",
    "    #     return True\n",
    "    else:\n",
    "        return False\n",
    "\n",
    "def isTroughTrend(prices):\n",
    "    dist = len(prices)/2\n",
    "    ar_prices = np.array(prices)\n",
    "    ar_troughs = find_peaks(-1*ar_prices,distance=dist)[0]\n",
    "    print(prices)\n",
    "    print(ar_troughs)\n",
    "    if (ar_troughs.size>1) and (ar_troughs[-1] == ar_prices.size-2) and ar_prices[ar_troughs[-1]]>=ar_prices[ar_troughs[-2]] :\n",
    "        return True\n",
    "    # elif (ar_troughs.size==1) and (ar_troughs[-1] == ar_prices.size-2):\n",
    "    #     return True\n",
    "    else:\n",
    "        return False\n",
    "\n",
    "ar_test = np.array([1,3,2,3,4,2,4,4,1.5,4,1,3,1,2,3,4,1,4,4,1,4,2])\n",
    "ar_test1 = np.array([12,13,12,11,12])\n",
    "\n",
    "#findpeaks(ar_test)\n",
    "#isPeak(ar_test)\n",
    "#isTroughTrend(ar_test1)\n",
    "stockPeaks(ar_test)\n",
    "df_stocks['Roll Peaks']=df_stocks['Close MSFT'].rolling(window=6).apply(stockPeaks)"
   ]
  },
  {
   "cell_type": "code",
   "execution_count": 475,
   "metadata": {},
   "outputs": [
    {
     "data": {
      "text/plain": [
       "<matplotlib.axes._subplots.AxesSubplot at 0x1c2e7a65f8>"
      ]
     },
     "execution_count": 475,
     "metadata": {},
     "output_type": "execute_result"
    },
    {
     "data": {
      "image/png": "[encoded data removed]",
      "text/plain": [
       "<Figure size 1296x864 with 1 Axes>"
      ]
     },
     "metadata": {
      "needs_background": "light"
     },
     "output_type": "display_data"
    }
   ],
   "source": [
    "df_stocks['Peaks'].plot(style=\".\",color=\"green\")\n",
    "#df_stocks['Troughs'].plot(style=\"*\",color=\"red\")\n",
    "df_stocks['Close MSFT'].plot(style=\"-\",figsize=[18,12])\n",
    "df_stocks['Peaks'].plot(style=\"*\", figsize=[18,12],xlim=[pd.Timestamp('2018-05-05'),pd.Timestamp('2018-09-05')])\n",
    "#df_stocks['volatility'].plot()"
   ]
  },
  {
   "cell_type": "code",
   "execution_count": null,
   "metadata": {},
   "outputs": [],
   "source": [
    "a =[]\n",
    "a.append()"
   ]
  }
 ],
 "metadata": {
  "kernelspec": {
   "display_name": "Python 3",
   "language": "python",
   "name": "python3"
  }
 },
 "nbformat": 4,
 "nbformat_minor": 2
}
